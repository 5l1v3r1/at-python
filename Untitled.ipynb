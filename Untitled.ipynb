{
 "cells": [
  {
   "cell_type": "code",
   "execution_count": 1,
   "metadata": {},
   "outputs": [],
   "source": [
    "import time\n",
    "import PeersManager\n",
    "import PeerSeeker\n",
    "import PiecesManager\n",
    "import Torrent\n",
    "import Tracker\n",
    "import logging\n",
    "import Queue\n",
    "from runner import Runner\n",
    "import logging\n",
    "import json\n",
    "import os.path\n"
   ]
  },
  {
   "cell_type": "code",
   "execution_count": 2,
   "metadata": {},
   "outputs": [],
   "source": [
    "from academictorrents import Client\n",
    "import unittest\n",
    "import os\n",
    "import shutil\n"
   ]
  },
  {
   "cell_type": "code",
   "execution_count": 3,
   "metadata": {},
   "outputs": [
    {
     "name": "stdout",
     "output_type": "stream",
     "text": [
      "No Peers Found -- Trying HTTP Backup\n",
      "> /Users/martinweiss/code/python-r-api/runner.py(80)start()\n",
      "-> urls_to_try = self.torrent.torrentFile.get('url-list', [])\n",
      "(Pdb) c\n",
      "Downloading from backup URL: https://s3.amazonaws.com/mila-genomics/pathway-commons-graph.hdf5\n"
     ]
    }
   ],
   "source": [
    "client = Client()\n",
    "filename = client.get_dataset('0332d23cc9909532b3b2c5ddcc3ac045f3f30ff4') # test torrent\n",
    "\n"
   ]
  },
  {
   "cell_type": "code",
   "execution_count": null,
   "metadata": {},
   "outputs": [],
   "source": []
  },
  {
   "cell_type": "code",
   "execution_count": null,
   "metadata": {},
   "outputs": [],
   "source": []
  },
  {
   "cell_type": "code",
   "execution_count": null,
   "metadata": {},
   "outputs": [],
   "source": []
  },
  {
   "cell_type": "code",
   "execution_count": null,
   "metadata": {},
   "outputs": [],
   "source": []
  },
  {
   "cell_type": "code",
   "execution_count": null,
   "metadata": {},
   "outputs": [],
   "source": []
  },
  {
   "cell_type": "code",
   "execution_count": null,
   "metadata": {},
   "outputs": [],
   "source": []
  },
  {
   "cell_type": "code",
   "execution_count": null,
   "metadata": {},
   "outputs": [],
   "source": []
  },
  {
   "cell_type": "code",
   "execution_count": null,
   "metadata": {},
   "outputs": [],
   "source": []
  },
  {
   "cell_type": "code",
   "execution_count": 4,
   "metadata": {},
   "outputs": [
    {
     "data": {
      "text/plain": [
       "'/Users/martinweiss/code/academictorrents/datastore/323a0048d87ca79b68f12a6350a57776b6a3b7fb.torrent'"
      ]
     },
     "execution_count": 4,
     "metadata": {},
     "output_type": "execute_result"
    }
   ],
   "source": [
    "filename"
   ]
  },
  {
   "cell_type": "code",
   "execution_count": null,
   "metadata": {},
   "outputs": [],
   "source": [
    "import h5py\n",
    "f = h5py.File('/Users/martinweiss/Desktop/gene_inference/genomics/graph/pathway-commons-graph.hdf5', 'r')\n",
    "f.keys()\n"
   ]
  },
  {
   "cell_type": "code",
   "execution_count": null,
   "metadata": {},
   "outputs": [],
   "source": [
    "\n",
    "import bencode\n",
    "with open('/Users/martinweiss/Desktop/pancan-tissue-graph.hdf5.torrent', 'r') as file:\n",
    "    contents = file.read()\n",
    "bencode.bdecode(contents)"
   ]
  },
  {
   "cell_type": "code",
   "execution_count": 35,
   "metadata": {
    "scrolled": true
   },
   "outputs": [
    {
     "data": {
      "text/plain": [
       "u'/Users/martinweiss/code/transcriptomic-models/dataset_files/asdf.hdf5'"
      ]
     },
     "execution_count": 35,
     "metadata": {},
     "output_type": "execute_result"
    }
   ],
   "source": [
    "\n",
    "class DatasetManager(object):\n",
    "    \n",
    "    def __init__(self):\n",
    "        self.config = json.load(open(\"dataset_config.json\", \"rb\"))\n",
    "        self.file_store = self.config[\"file_store\"]\n",
    "    \n",
    "    def get_dataset(self, name, hdf5_filename=None):\n",
    "        # OK, this is ONE example of downloading a torrent file for tcga-gbm\n",
    "        info = self.config.get(name)\n",
    "        with io.open('dataset_config.json', 'w', encoding='utf-8') as f:\n",
    "            \n",
    "            # If we pass in a filename,\n",
    "            if hdf5_filename:\n",
    "                # check if it's in the json\n",
    "                d = self.config.get(name, {})\n",
    "                d['local_file'] = hdf5_filename\n",
    "                self.config[name] = d\n",
    "                f.write(unicode(json.dumps(self.config, ensure_ascii=False)))\n",
    "                return self.file_store + hdf5_filename\n",
    "\n",
    "            elif os.path.isfile(self.file_store + info.get(\"local_file\", \"\")):\n",
    "                path = self.file_store + info[\"local_file\"]\n",
    "                print \"Found Local Files found at: \" + path\n",
    "                return path\n",
    "         \n",
    "            elif os.path.isfile(self.file_store + info.get(\"torrent_file\", \"\")):\n",
    "                path = self.file_store + info[\"torrent_file\"]\n",
    "                print \"Found Torrent File located at: \" + path\n",
    "                Runner(path, self.file_store).start()\n",
    "                self.config['local_file'] = path\n",
    "                f.write(unicode(json.dumps(self.config, ensure_ascii=False)))\n",
    "\n",
    "                path = self.file_store + info[\"local_file\"] # This is wrong, we need to extract the new file path\n",
    "                return path\n",
    "    \n",
    "dataset_manager = DatasetManager()\n",
    "dataset_manager.get_dataset('tcga-gbm', 'asdf.hdf5')"
   ]
  },
  {
   "cell_type": "code",
   "execution_count": null,
   "metadata": {},
   "outputs": [],
   "source": []
  },
  {
   "cell_type": "code",
   "execution_count": null,
   "metadata": {},
   "outputs": [],
   "source": [
    "import bencode\n",
    "with open('/Users/martinweiss/Desktop/pancan-tissue-graph.hdf5.torrent', 'r') as file:\n",
    "    contents = file.read()\n",
    "bencode.bdecode(contents)"
   ]
  },
  {
   "cell_type": "code",
   "execution_count": null,
   "metadata": {},
   "outputs": [],
   "source": []
  },
  {
   "cell_type": "code",
   "execution_count": null,
   "metadata": {},
   "outputs": [],
   "source": [
    "def get_dataset(data_dir, data_file, seed, nb_class, nb_examples, nb_nodes, dataset, nb_master_nodes, opt):\n",
    "    \"\"\"\n",
    "    Get a dataset based on the options.\n",
    "    :param opt:\n",
    "    :return:\n",
    "    \"\"\"\n",
    "    if dataset == 'random':\n",
    "        logging.info(\"Getting a random dataset\")\n",
    "        dataset = RandomDataset(seed, nb_class, nb_examples, nb_nodes)\n",
    "\n",
    "    elif dataset == 'tcga-tissue':\n",
    "        logging.info(\"Getting TCGA tissue type\")\n",
    "        dataset = TCGATissue(seed=seed, nb_class=nb_class, nb_examples=nb_examples, nb_nodes=nb_nodes, nb_master_nodes=nb_master_nodes)\n",
    "\n",
    "    elif dataset == 'tcga-brca':\n",
    "        logging.info(\"Getting TCGA BRCA type\")\n",
    "        dataset = BRCACoexpr(opt=opt)\n",
    "\n",
    "    elif dataset == 'percolate':\n",
    "        dataset = PercolateDataset(opt=opt)\n",
    "\n",
    "    elif dataset == 'tcga-gbm':\n",
    "        logging.info(\"Getting TCGA GBM Dataset\")\n",
    "        dataset = GBMDataset(data_dir=data_dir, data_file=data_file, seed=seed, nb_class=nb_class, nb_examples=nb_examples, nb_nodes=nb_nodes)\n",
    "\n",
    "    elif dataset == 'nslr-syn':\n",
    "        logging.info(\"Getting NSLR Synthetic Dataset\")\n",
    "        dataset = NSLRSyntheticDataset(opt=opt)\n",
    "\n",
    "    elif dataset == 'percolate-plus':\n",
    "        logging.info(\"Getting percolate-plus Dataset\")\n",
    "        pdata = PercolateDataset(opt=opt)\n",
    "        dataset = add_noise(dataset=pdata, num_added_nodes=opt.extra_ucn)\n",
    "\n",
    "    elif opt.dataset == 'ecoli':\n",
    "        logging.info(\"Getting ecoli Dataset\")\n",
    "        dataset = data.colombos.EcoliDataset(opt=opt)\n",
    "    elif opt.dataset == 'dgex':\n",
    "        logging.info(\"Getting DGEX GEO Microarray data\")\n",
    "        dataset = DGEXGEO(data_dir=data_dir, data_file=data_file, seed=seed, nb_class=nb_class, nb_examples=nb_examples, nb_nodes=nb_nodes, nb_master_nodes=nb_master_nodes)\n",
    "    elif opt.dataset == 'tcga-tissue-gene-inference':\n",
    "        logging.info(\"TCGA tissue gene inference\")\n",
    "        dataset = TCGAGeneInference(seed=seed, nb_class=nb_class, nb_examples=nb_examples, nb_nodes=nb_nodes, nb_master_nodes=nb_master_nodes)\n",
    "\n",
    "    else:\n",
    "        raise ValueError\n",
    "    return dataset\n"
   ]
  }
 ],
 "metadata": {
  "kernelspec": {
   "display_name": "Python 2",
   "language": "python",
   "name": "python2"
  },
  "language_info": {
   "codemirror_mode": {
    "name": "ipython",
    "version": 2
   },
   "file_extension": ".py",
   "mimetype": "text/x-python",
   "name": "python",
   "nbconvert_exporter": "python",
   "pygments_lexer": "ipython2",
   "version": "2.7.13"
  }
 },
 "nbformat": 4,
 "nbformat_minor": 2
}

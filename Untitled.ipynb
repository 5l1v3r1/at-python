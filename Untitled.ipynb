{
 "cells": [
  {
   "cell_type": "code",
   "execution_count": 1,
   "metadata": {},
   "outputs": [],
   "source": [
    "import time\n",
    "import PeersManager\n",
    "import PeerSeeker\n",
    "import PiecesManager\n",
    "import Torrent\n",
    "import Tracker\n",
    "import logging\n",
    "import Queue\n",
    "from runner import Runner\n",
    "import logging\n",
    "import json\n",
    "import os.path\n"
   ]
  },
  {
   "cell_type": "code",
   "execution_count": 2,
   "metadata": {},
   "outputs": [],
   "source": [
    "from academictorrents import Client\n",
    "import unittest\n",
    "import os\n",
    "import shutil\n"
   ]
  },
  {
   "cell_type": "code",
   "execution_count": 3,
   "metadata": {},
   "outputs": [
    {
     "name": "stdout",
     "output_type": "stream",
     "text": [
      "add new peer: 185.203.56.6\n",
      "add new peer: 185.149.90.114\n",
      "add new peer: 178.62.227.50\n",
      "add new peer: 178.32.221.166\n",
      "[Errno 54] Connection reset by peer\n",
      "removing peer: 185.203.56.6\n",
      "in remove peer\n",
      "[Errno 54] Connection reset by peer\n",
      "removing peer: 185.149.90.114\n",
      "in remove peer\n",
      "add new peer: 166.111.66.130\n",
      "length of message received in peersmanager was 0 -- removing peer: 166.111.66.130\n",
      "in remove peer\n",
      "Unchoking peer: 178.32.221.166\n",
      "Asdffdssdfs\n",
      "Number of peers:  1  Completed:  0.00744376693298 %\n",
      "Number of peers:  1  Completed:  0.0446626015979 %\n",
      "Number of peers:  1  Completed:  0.0781595527963 %\n",
      "Number of peers:  1  Completed:  0.130265921327 %\n",
      "Number of peers:  1  Completed:  0.163762872525 %\n",
      "Number of peers:  1  Completed:  0.245644308788 %\n",
      "Number of peers:  1  Completed:  0.34985704585 %\n",
      "Number of peers:  1  Completed:  0.707157858633 %\n",
      "Unchoking peer: 178.62.227.50\n",
      "Asdffdssdfs\n",
      "add new peer: 85.17.75.141\n",
      "Number of peers:  2  Completed:  6.57284620182 %\n",
      "[Errno 54] Connection reset by peer\n",
      "removing peer: 85.17.75.141\n",
      "in remove peer\n",
      "add new peer: 59.78.45.128\n",
      "add new peer: 51.7.222.173\n",
      "[Errno 54] Connection reset by peer\n",
      "removing peer: 59.78.45.128\n",
      "in remove peer\n",
      "Number of peers:  2  Completed:  16.3018495832 %\n",
      "Number of peers:  2  Completed:  16.3502340683 %\n",
      "Number of peers:  2  Completed:  16.5623814259 %\n",
      "Unchoking peer: 51.7.222.173\n",
      "Asdffdssdfs\n",
      "Number of peers:  3  Completed:  18.0995192975 %\n",
      "Number of peers:  3  Completed:  24.3485616378 %\n",
      "Number of peers:  3  Completed:  24.4081117732 %\n",
      "Number of peers:  3  Completed:  28.2639830445 %\n",
      "Number of peers:  3  Completed:  28.2825924618 %\n",
      "Number of peers:  3  Completed:  28.371917665 %\n",
      "Number of peers:  3  Completed:  34.3678719296 %\n",
      "Number of peers:  3  Completed:  34.5167472682 %\n",
      "Number of peers:  3  Completed:  34.7512259266 %\n",
      "Number of peers:  3  Completed:  38.6145409648 %\n",
      "Number of peers:  3  Completed:  39.0202262627 %\n",
      "Number of peers:  3  Completed:  45.0422337114 %\n",
      "Number of peers:  3  Completed:  48.8459986142 %\n",
      "Number of peers:  3  Completed:  49.1288617576 %\n",
      "Number of peers:  3  Completed:  52.8321358068 %\n",
      "Number of peers:  3  Completed:  53.1373302511 %\n",
      "Number of peers:  3  Completed:  57.0601954247 %\n",
      "Number of peers:  3  Completed:  59.5240822795 %\n",
      "Number of peers:  3  Completed:  59.8702174419 %\n",
      "Number of peers:  3  Completed:  66.2160287523 %\n",
      "Number of peers:  3  Completed:  66.8115301069 %\n",
      "Number of peers:  3  Completed:  70.7120639798 %\n",
      "Number of peers:  3  Completed:  74.8102926988 %\n",
      "Number of peers:  3  Completed:  76.4814183753 %\n",
      "Number of peers:  3  Completed:  80.4973306356 %\n",
      "Number of peers:  3  Completed:  80.8323001476 %\n",
      "Number of peers:  3  Completed:  84.7365559039 %\n",
      "Number of peers:  3  Completed:  84.7439996709 %\n",
      "Number of peers:  3  Completed:  85.0119752805 %\n",
      "Number of peers:  3  Completed:  85.2762290066 %\n",
      "Number of peers:  3  Completed:  85.5404827327 %\n",
      "Number of peers:  3  Completed:  85.8196239927 %\n",
      "Number of peers:  3  Completed:  86.1657591551 %\n",
      "Number of peers:  3  Completed:  86.3071907268 %\n",
      "Number of peers:  3  Completed:  86.4039596969 %\n"
     ]
    },
    {
     "ename": "KeyboardInterrupt",
     "evalue": "",
     "output_type": "error",
     "traceback": [
      "\u001b[0;31m---------------------------------------------------------------------------\u001b[0m",
      "\u001b[0;31mKeyboardInterrupt\u001b[0m                         Traceback (most recent call last)",
      "\u001b[0;32m<ipython-input-3-5c9a62fa27db>\u001b[0m in \u001b[0;36m<module>\u001b[0;34m()\u001b[0m\n\u001b[1;32m      1\u001b[0m \u001b[0mclient\u001b[0m \u001b[0;34m=\u001b[0m \u001b[0mClient\u001b[0m\u001b[0;34m(\u001b[0m\u001b[0;34m)\u001b[0m\u001b[0;34m\u001b[0m\u001b[0m\n\u001b[0;32m----> 2\u001b[0;31m \u001b[0mfilename\u001b[0m \u001b[0;34m=\u001b[0m \u001b[0mclient\u001b[0m\u001b[0;34m.\u001b[0m\u001b[0mget_dataset\u001b[0m\u001b[0;34m(\u001b[0m\u001b[0;34m'34e2b78745138186976cbc27939b1b34d18bd5b3'\u001b[0m\u001b[0;34m)\u001b[0m \u001b[0;31m# test torrent\u001b[0m\u001b[0;34m\u001b[0m\u001b[0m\n\u001b[0m\u001b[1;32m      3\u001b[0m \u001b[0;34m\u001b[0m\u001b[0m\n",
      "\u001b[0;32m/Users/martinweiss/code/python-r-api/academictorrents.pyc\u001b[0m in \u001b[0;36mget_dataset\u001b[0;34m(self, name)\u001b[0m\n\u001b[1;32m     37\u001b[0m         \u001b[0;32mif\u001b[0m \u001b[0;32mnot\u001b[0m \u001b[0mos\u001b[0m\u001b[0;34m.\u001b[0m\u001b[0mpath\u001b[0m\u001b[0;34m.\u001b[0m\u001b[0misfile\u001b[0m\u001b[0;34m(\u001b[0m\u001b[0mself\u001b[0m\u001b[0;34m.\u001b[0m\u001b[0mget_torrent_dir\u001b[0m\u001b[0;34m(\u001b[0m\u001b[0mname\u001b[0m\u001b[0;34m)\u001b[0m \u001b[0;34m+\u001b[0m \u001b[0mcontents\u001b[0m\u001b[0;34m[\u001b[0m\u001b[0;34m'info'\u001b[0m\u001b[0;34m]\u001b[0m\u001b[0;34m[\u001b[0m\u001b[0;34m'name'\u001b[0m\u001b[0;34m]\u001b[0m\u001b[0;34m)\u001b[0m\u001b[0;34m:\u001b[0m\u001b[0;34m\u001b[0m\u001b[0m\n\u001b[1;32m     38\u001b[0m             \u001b[0;31m# check if anyone has this package\u001b[0m\u001b[0;34m\u001b[0m\u001b[0;34m\u001b[0m\u001b[0m\n\u001b[0;32m---> 39\u001b[0;31m             \u001b[0mRunner\u001b[0m\u001b[0;34m(\u001b[0m\u001b[0mtorrent_path\u001b[0m\u001b[0;34m,\u001b[0m \u001b[0mself\u001b[0m\u001b[0;34m.\u001b[0m\u001b[0mget_torrent_dir\u001b[0m\u001b[0;34m(\u001b[0m\u001b[0mname\u001b[0m\u001b[0;34m)\u001b[0m\u001b[0;34m)\u001b[0m\u001b[0;34m.\u001b[0m\u001b[0mstart\u001b[0m\u001b[0;34m(\u001b[0m\u001b[0;34m)\u001b[0m\u001b[0;34m\u001b[0m\u001b[0m\n\u001b[0m\u001b[1;32m     40\u001b[0m         \u001b[0;32mreturn\u001b[0m \u001b[0mself\u001b[0m\u001b[0;34m.\u001b[0m\u001b[0mget_torrent_dir\u001b[0m\u001b[0;34m(\u001b[0m\u001b[0mname\u001b[0m\u001b[0;34m)\u001b[0m \u001b[0;34m+\u001b[0m \u001b[0mcontents\u001b[0m\u001b[0;34m[\u001b[0m\u001b[0;34m'info'\u001b[0m\u001b[0;34m]\u001b[0m\u001b[0;34m[\u001b[0m\u001b[0;34m'name'\u001b[0m\u001b[0;34m]\u001b[0m\u001b[0;34m\u001b[0m\u001b[0m\n",
      "\u001b[0;32m/Users/martinweiss/code/python-r-api/runner.py\u001b[0m in \u001b[0;36mstart\u001b[0;34m(self)\u001b[0m\n\u001b[1;32m     76\u001b[0m                \u001b[0;31m##########################\u001b[0m\u001b[0;34m\u001b[0m\u001b[0;34m\u001b[0m\u001b[0m\n\u001b[1;32m     77\u001b[0m \u001b[0;34m\u001b[0m\u001b[0m\n\u001b[0;32m---> 78\u001b[0;31m             \u001b[0mtime\u001b[0m\u001b[0;34m.\u001b[0m\u001b[0msleep\u001b[0m\u001b[0;34m(\u001b[0m\u001b[0;36m0.1\u001b[0m\u001b[0;34m)\u001b[0m\u001b[0;34m\u001b[0m\u001b[0m\n\u001b[0m\u001b[1;32m     79\u001b[0m \u001b[0;34m\u001b[0m\u001b[0m\n\u001b[1;32m     80\u001b[0m         \u001b[0;31m# gotta kill the threads\u001b[0m\u001b[0;34m\u001b[0m\u001b[0;34m\u001b[0m\u001b[0m\n",
      "\u001b[0;31mKeyboardInterrupt\u001b[0m: "
     ]
    }
   ],
   "source": [
    "client = Client()\n",
    "filename = client.get_dataset('34e2b78745138186976cbc27939b1b34d18bd5b3') # test torrent\n",
    "\n"
   ]
  },
  {
   "cell_type": "code",
   "execution_count": null,
   "metadata": {},
   "outputs": [],
   "source": []
  },
  {
   "cell_type": "code",
   "execution_count": null,
   "metadata": {},
   "outputs": [],
   "source": []
  },
  {
   "cell_type": "code",
   "execution_count": null,
   "metadata": {},
   "outputs": [],
   "source": []
  },
  {
   "cell_type": "code",
   "execution_count": null,
   "metadata": {},
   "outputs": [],
   "source": []
  },
  {
   "cell_type": "code",
   "execution_count": null,
   "metadata": {},
   "outputs": [],
   "source": []
  },
  {
   "cell_type": "code",
   "execution_count": null,
   "metadata": {},
   "outputs": [],
   "source": []
  },
  {
   "cell_type": "code",
   "execution_count": null,
   "metadata": {},
   "outputs": [],
   "source": []
  },
  {
   "cell_type": "code",
   "execution_count": null,
   "metadata": {},
   "outputs": [],
   "source": []
  },
  {
   "cell_type": "code",
   "execution_count": 4,
   "metadata": {},
   "outputs": [
    {
     "data": {
      "text/plain": [
       "'/Users/martinweiss/code/academictorrents/datastore/323a0048d87ca79b68f12a6350a57776b6a3b7fb.torrent'"
      ]
     },
     "execution_count": 4,
     "metadata": {},
     "output_type": "execute_result"
    }
   ],
   "source": [
    "filename"
   ]
  },
  {
   "cell_type": "code",
   "execution_count": null,
   "metadata": {},
   "outputs": [],
   "source": [
    "import h5py\n",
    "f = h5py.File('/Users/martinweiss/Desktop/gene_inference/genomics/graph/pathway-commons-graph.hdf5', 'r')\n",
    "f.keys()\n"
   ]
  },
  {
   "cell_type": "code",
   "execution_count": null,
   "metadata": {},
   "outputs": [],
   "source": [
    "\n",
    "import bencode\n",
    "with open('/Users/martinweiss/Desktop/pancan-tissue-graph.hdf5.torrent', 'r') as file:\n",
    "    contents = file.read()\n",
    "bencode.bdecode(contents)"
   ]
  },
  {
   "cell_type": "code",
   "execution_count": 35,
   "metadata": {
    "scrolled": true
   },
   "outputs": [
    {
     "data": {
      "text/plain": [
       "u'/Users/martinweiss/code/transcriptomic-models/dataset_files/asdf.hdf5'"
      ]
     },
     "execution_count": 35,
     "metadata": {},
     "output_type": "execute_result"
    }
   ],
   "source": [
    "\n",
    "class DatasetManager(object):\n",
    "    \n",
    "    def __init__(self):\n",
    "        self.config = json.load(open(\"dataset_config.json\", \"rb\"))\n",
    "        self.file_store = self.config[\"file_store\"]\n",
    "    \n",
    "    def get_dataset(self, name, hdf5_filename=None):\n",
    "        # OK, this is ONE example of downloading a torrent file for tcga-gbm\n",
    "        info = self.config.get(name)\n",
    "        with io.open('dataset_config.json', 'w', encoding='utf-8') as f:\n",
    "            \n",
    "            # If we pass in a filename,\n",
    "            if hdf5_filename:\n",
    "                # check if it's in the json\n",
    "                d = self.config.get(name, {})\n",
    "                d['local_file'] = hdf5_filename\n",
    "                self.config[name] = d\n",
    "                f.write(unicode(json.dumps(self.config, ensure_ascii=False)))\n",
    "                return self.file_store + hdf5_filename\n",
    "\n",
    "            elif os.path.isfile(self.file_store + info.get(\"local_file\", \"\")):\n",
    "                path = self.file_store + info[\"local_file\"]\n",
    "                print \"Found Local Files found at: \" + path\n",
    "                return path\n",
    "         \n",
    "            elif os.path.isfile(self.file_store + info.get(\"torrent_file\", \"\")):\n",
    "                path = self.file_store + info[\"torrent_file\"]\n",
    "                print \"Found Torrent File located at: \" + path\n",
    "                Runner(path, self.file_store).start()\n",
    "                self.config['local_file'] = path\n",
    "                f.write(unicode(json.dumps(self.config, ensure_ascii=False)))\n",
    "\n",
    "                path = self.file_store + info[\"local_file\"] # This is wrong, we need to extract the new file path\n",
    "                return path\n",
    "    \n",
    "dataset_manager = DatasetManager()\n",
    "dataset_manager.get_dataset('tcga-gbm', 'asdf.hdf5')"
   ]
  },
  {
   "cell_type": "code",
   "execution_count": null,
   "metadata": {},
   "outputs": [],
   "source": []
  },
  {
   "cell_type": "code",
   "execution_count": null,
   "metadata": {},
   "outputs": [],
   "source": [
    "import bencode\n",
    "with open('/Users/martinweiss/Desktop/pancan-tissue-graph.hdf5.torrent', 'r') as file:\n",
    "    contents = file.read()\n",
    "bencode.bdecode(contents)"
   ]
  },
  {
   "cell_type": "code",
   "execution_count": null,
   "metadata": {},
   "outputs": [],
   "source": []
  },
  {
   "cell_type": "code",
   "execution_count": null,
   "metadata": {},
   "outputs": [],
   "source": [
    "def get_dataset(data_dir, data_file, seed, nb_class, nb_examples, nb_nodes, dataset, nb_master_nodes, opt):\n",
    "    \"\"\"\n",
    "    Get a dataset based on the options.\n",
    "    :param opt:\n",
    "    :return:\n",
    "    \"\"\"\n",
    "    if dataset == 'random':\n",
    "        logging.info(\"Getting a random dataset\")\n",
    "        dataset = RandomDataset(seed, nb_class, nb_examples, nb_nodes)\n",
    "\n",
    "    elif dataset == 'tcga-tissue':\n",
    "        logging.info(\"Getting TCGA tissue type\")\n",
    "        dataset = TCGATissue(seed=seed, nb_class=nb_class, nb_examples=nb_examples, nb_nodes=nb_nodes, nb_master_nodes=nb_master_nodes)\n",
    "\n",
    "    elif dataset == 'tcga-brca':\n",
    "        logging.info(\"Getting TCGA BRCA type\")\n",
    "        dataset = BRCACoexpr(opt=opt)\n",
    "\n",
    "    elif dataset == 'percolate':\n",
    "        dataset = PercolateDataset(opt=opt)\n",
    "\n",
    "    elif dataset == 'tcga-gbm':\n",
    "        logging.info(\"Getting TCGA GBM Dataset\")\n",
    "        dataset = GBMDataset(data_dir=data_dir, data_file=data_file, seed=seed, nb_class=nb_class, nb_examples=nb_examples, nb_nodes=nb_nodes)\n",
    "\n",
    "    elif dataset == 'nslr-syn':\n",
    "        logging.info(\"Getting NSLR Synthetic Dataset\")\n",
    "        dataset = NSLRSyntheticDataset(opt=opt)\n",
    "\n",
    "    elif dataset == 'percolate-plus':\n",
    "        logging.info(\"Getting percolate-plus Dataset\")\n",
    "        pdata = PercolateDataset(opt=opt)\n",
    "        dataset = add_noise(dataset=pdata, num_added_nodes=opt.extra_ucn)\n",
    "\n",
    "    elif opt.dataset == 'ecoli':\n",
    "        logging.info(\"Getting ecoli Dataset\")\n",
    "        dataset = data.colombos.EcoliDataset(opt=opt)\n",
    "    elif opt.dataset == 'dgex':\n",
    "        logging.info(\"Getting DGEX GEO Microarray data\")\n",
    "        dataset = DGEXGEO(data_dir=data_dir, data_file=data_file, seed=seed, nb_class=nb_class, nb_examples=nb_examples, nb_nodes=nb_nodes, nb_master_nodes=nb_master_nodes)\n",
    "    elif opt.dataset == 'tcga-tissue-gene-inference':\n",
    "        logging.info(\"TCGA tissue gene inference\")\n",
    "        dataset = TCGAGeneInference(seed=seed, nb_class=nb_class, nb_examples=nb_examples, nb_nodes=nb_nodes, nb_master_nodes=nb_master_nodes)\n",
    "\n",
    "    else:\n",
    "        raise ValueError\n",
    "    return dataset\n"
   ]
  }
 ],
 "metadata": {
  "kernelspec": {
   "display_name": "Python 2",
   "language": "python",
   "name": "python2"
  },
  "language_info": {
   "codemirror_mode": {
    "name": "ipython",
    "version": 2
   },
   "file_extension": ".py",
   "mimetype": "text/x-python",
   "name": "python",
   "nbconvert_exporter": "python",
   "pygments_lexer": "ipython2",
   "version": "2.7.13"
  }
 },
 "nbformat": 4,
 "nbformat_minor": 2
}

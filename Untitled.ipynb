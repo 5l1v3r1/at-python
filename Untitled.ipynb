{
 "cells": [
  {
   "cell_type": "code",
   "execution_count": 1,
   "metadata": {},
   "outputs": [],
   "source": [
    "import time\n",
    "import PeersManager\n",
    "import PeerSeeker\n",
    "import PiecesManager\n",
    "import Torrent\n",
    "import Tracker\n",
    "import logging\n",
    "import Queue\n",
    "from runner import Runner\n",
    "import logging\n",
    "import json\n",
    "import os.path\n"
   ]
  },
  {
   "cell_type": "code",
   "execution_count": 2,
   "metadata": {},
   "outputs": [],
   "source": [
    "from academictorrents import Client\n",
    "import unittest\n",
    "import os\n",
    "import shutil\n"
   ]
  },
  {
   "cell_type": "code",
   "execution_count": 3,
   "metadata": {},
   "outputs": [
    {
     "name": "stdout",
     "output_type": "stream",
     "text": [
      "Number of peers:  1  Completed:  0.101330876917 %\n",
      "Number of peers:  1  Completed:  0.506654384586 %\n",
      "Number of peers:  1  Completed:  1.21597052301 %\n",
      "Number of peers:  1  Completed:  2.02661753834 %\n",
      "Number of peers:  1  Completed:  3.5465806921 %\n",
      "Number of peers:  1  Completed:  5.8771908612 %\n",
      "Number of peers:  1  Completed:  8.51179366104 %\n",
      "Number of peers:  1  Completed:  12.3623669839 %\n",
      "Number of peers:  1  Completed:  17.4289108298 %\n",
      "Number of peers:  1  Completed:  20.8741606449 %\n",
      "Number of peers:  1  Completed:  24.1167487063 %\n",
      "Number of peers:  1  Completed:  28.4739764137 %\n",
      "Number of peers:  1  Completed:  32.8312041212 %\n",
      "Number of peers:  1  Completed:  37.6950862132 %\n",
      "Number of peers:  1  Completed:  42.5589683052 %\n",
      "Number of peers:  1  Completed:  43.9776005821 %\n",
      "Number of peers:  1  Completed:  46.9161960127 %\n",
      "Number of peers:  1  Completed:  47.3215195203 %\n",
      "Number of peers:  1  Completed:  47.6255121511 %\n",
      "Number of peers:  1  Completed:  54.6037671411 %\n",
      "Number of peers:  1  Completed:  59.56898011 %\n",
      "Number of peers:  1  Completed:  60.1769653715 %\n",
      "Number of peers:  1  Completed:  67.0674650019 %\n",
      "Number of peers:  1  Completed:  70.5127148171 %\n",
      "Number of peers:  1  Completed:  73.9579646323 %\n",
      "Number of peers:  1  Completed:  77.8085379551 %\n",
      "Number of peers:  1  Completed:  81.2537877703 %\n",
      "Number of peers:  1  Completed:  85.0030302163 %\n",
      "Number of peers:  1  Completed:  88.8536035391 %\n",
      "Number of peers:  1  Completed:  92.1975224774 %\n",
      "Number of peers:  1  Completed:  95.8454340464 %\n",
      "Number of peers:  1  Completed:  99.0880221077 %\n",
      "> /Users/martinweiss/code/academictorrents/runner.py(81)start()\n",
      "-> self.peerSeeker.requestStop()\n",
      "(Pdb) n\n",
      "> /Users/martinweiss/code/academictorrents/runner.py(82)start()\n",
      "-> self.peersManager.requestStop()\n",
      "(Pdb) c\n"
     ]
    }
   ],
   "source": [
    "client = Client()\n",
    "if os.path.isdir(client.datastore + \"mnist.pkl.gz\"):\n",
    "    shutil.rmtree(client.datastore + \"mnist.pkl.gz\")\n",
    "filename = client.get_dataset('323a0048d87ca79b68f12a6350a57776b6a3b7fb') # test torrent\n",
    "\n"
   ]
  },
  {
   "cell_type": "code",
   "execution_count": 4,
   "metadata": {},
   "outputs": [
    {
     "data": {
      "text/plain": [
       "'/Users/martinweiss/code/academictorrents/datastore/323a0048d87ca79b68f12a6350a57776b6a3b7fb.torrent'"
      ]
     },
     "execution_count": 4,
     "metadata": {},
     "output_type": "execute_result"
    }
   ],
   "source": [
    "filename"
   ]
  },
  {
   "cell_type": "code",
   "execution_count": 35,
   "metadata": {
    "scrolled": true
   },
   "outputs": [
    {
     "data": {
      "text/plain": [
       "u'/Users/martinweiss/code/transcriptomic-models/dataset_files/asdf.hdf5'"
      ]
     },
     "execution_count": 35,
     "metadata": {},
     "output_type": "execute_result"
    }
   ],
   "source": [
    "\n",
    "class DatasetManager(object):\n",
    "    \n",
    "    def __init__(self):\n",
    "        self.config = json.load(open(\"dataset_config.json\", \"rb\"))\n",
    "        self.file_store = self.config[\"file_store\"]\n",
    "    \n",
    "    def get_dataset(self, name, hdf5_filename=None):\n",
    "        # OK, this is ONE example of downloading a torrent file for tcga-gbm\n",
    "        info = self.config.get(name)\n",
    "        with io.open('dataset_config.json', 'w', encoding='utf-8') as f:\n",
    "            \n",
    "            # If we pass in a filename,\n",
    "            if hdf5_filename:\n",
    "                # check if it's in the json\n",
    "                d = self.config.get(name, {})\n",
    "                d['local_file'] = hdf5_filename\n",
    "                self.config[name] = d\n",
    "                f.write(unicode(json.dumps(self.config, ensure_ascii=False)))\n",
    "                return self.file_store + hdf5_filename\n",
    "\n",
    "            elif os.path.isfile(self.file_store + info.get(\"local_file\", \"\")):\n",
    "                path = self.file_store + info[\"local_file\"]\n",
    "                print \"Found Local Files found at: \" + path\n",
    "                return path\n",
    "         \n",
    "            elif os.path.isfile(self.file_store + info.get(\"torrent_file\", \"\")):\n",
    "                path = self.file_store + info[\"torrent_file\"]\n",
    "                print \"Found Torrent File located at: \" + path\n",
    "                Runner(path, self.file_store).start()\n",
    "                self.config['local_file'] = path\n",
    "                f.write(unicode(json.dumps(self.config, ensure_ascii=False)))\n",
    "\n",
    "                path = self.file_store + info[\"local_file\"] # This is wrong, we need to extract the new file path\n",
    "                return path\n",
    "    \n",
    "dataset_manager = DatasetManager()\n",
    "dataset_manager.get_dataset('tcga-gbm', 'asdf.hdf5')"
   ]
  },
  {
   "cell_type": "code",
   "execution_count": null,
   "metadata": {},
   "outputs": [],
   "source": []
  },
  {
   "cell_type": "code",
   "execution_count": null,
   "metadata": {},
   "outputs": [],
   "source": []
  },
  {
   "cell_type": "code",
   "execution_count": null,
   "metadata": {},
   "outputs": [],
   "source": []
  },
  {
   "cell_type": "code",
   "execution_count": null,
   "metadata": {},
   "outputs": [],
   "source": [
    "def get_dataset(data_dir, data_file, seed, nb_class, nb_examples, nb_nodes, dataset, nb_master_nodes, opt):\n",
    "    \"\"\"\n",
    "    Get a dataset based on the options.\n",
    "    :param opt:\n",
    "    :return:\n",
    "    \"\"\"\n",
    "    if dataset == 'random':\n",
    "        logging.info(\"Getting a random dataset\")\n",
    "        dataset = RandomDataset(seed, nb_class, nb_examples, nb_nodes)\n",
    "\n",
    "    elif dataset == 'tcga-tissue':\n",
    "        logging.info(\"Getting TCGA tissue type\")\n",
    "        dataset = TCGATissue(seed=seed, nb_class=nb_class, nb_examples=nb_examples, nb_nodes=nb_nodes, nb_master_nodes=nb_master_nodes)\n",
    "\n",
    "    elif dataset == 'tcga-brca':\n",
    "        logging.info(\"Getting TCGA BRCA type\")\n",
    "        dataset = BRCACoexpr(opt=opt)\n",
    "\n",
    "    elif dataset == 'percolate':\n",
    "        dataset = PercolateDataset(opt=opt)\n",
    "\n",
    "    elif dataset == 'tcga-gbm':\n",
    "        logging.info(\"Getting TCGA GBM Dataset\")\n",
    "        dataset = GBMDataset(data_dir=data_dir, data_file=data_file, seed=seed, nb_class=nb_class, nb_examples=nb_examples, nb_nodes=nb_nodes)\n",
    "\n",
    "    elif dataset == 'nslr-syn':\n",
    "        logging.info(\"Getting NSLR Synthetic Dataset\")\n",
    "        dataset = NSLRSyntheticDataset(opt=opt)\n",
    "\n",
    "    elif dataset == 'percolate-plus':\n",
    "        logging.info(\"Getting percolate-plus Dataset\")\n",
    "        pdata = PercolateDataset(opt=opt)\n",
    "        dataset = add_noise(dataset=pdata, num_added_nodes=opt.extra_ucn)\n",
    "\n",
    "    elif opt.dataset == 'ecoli':\n",
    "        logging.info(\"Getting ecoli Dataset\")\n",
    "        dataset = data.colombos.EcoliDataset(opt=opt)\n",
    "    elif opt.dataset == 'dgex':\n",
    "        logging.info(\"Getting DGEX GEO Microarray data\")\n",
    "        dataset = DGEXGEO(data_dir=data_dir, data_file=data_file, seed=seed, nb_class=nb_class, nb_examples=nb_examples, nb_nodes=nb_nodes, nb_master_nodes=nb_master_nodes)\n",
    "    elif opt.dataset == 'tcga-tissue-gene-inference':\n",
    "        logging.info(\"TCGA tissue gene inference\")\n",
    "        dataset = TCGAGeneInference(seed=seed, nb_class=nb_class, nb_examples=nb_examples, nb_nodes=nb_nodes, nb_master_nodes=nb_master_nodes)\n",
    "\n",
    "    else:\n",
    "        raise ValueError\n",
    "    return dataset\n"
   ]
  }
 ],
 "metadata": {
  "kernelspec": {
   "display_name": "Python 2",
   "language": "python",
   "name": "python2"
  },
  "language_info": {
   "codemirror_mode": {
    "name": "ipython",
    "version": 2
   },
   "file_extension": ".py",
   "mimetype": "text/x-python",
   "name": "python",
   "nbconvert_exporter": "python",
   "pygments_lexer": "ipython2",
   "version": "2.7.13"
  }
 },
 "nbformat": 4,
 "nbformat_minor": 2
}
